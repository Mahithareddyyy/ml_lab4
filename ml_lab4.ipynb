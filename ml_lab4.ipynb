{
 "cells": [
  {
   "cell_type": "code",
   "execution_count": 4,
   "id": "496c6259",
   "metadata": {},
   "outputs": [
    {
     "data": {
      "text/html": [
       "<div>\n",
       "<style scoped>\n",
       "    .dataframe tbody tr th:only-of-type {\n",
       "        vertical-align: middle;\n",
       "    }\n",
       "\n",
       "    .dataframe tbody tr th {\n",
       "        vertical-align: top;\n",
       "    }\n",
       "\n",
       "    .dataframe thead th {\n",
       "        text-align: right;\n",
       "    }\n",
       "</style>\n",
       "<table border=\"1\" class=\"dataframe\">\n",
       "  <thead>\n",
       "    <tr style=\"text-align: right;\">\n",
       "      <th></th>\n",
       "      <th>age</th>\n",
       "      <th>income</th>\n",
       "      <th>student</th>\n",
       "      <th>credit_rating</th>\n",
       "      <th>buys_computer</th>\n",
       "    </tr>\n",
       "  </thead>\n",
       "  <tbody>\n",
       "    <tr>\n",
       "      <th>0</th>\n",
       "      <td>&lt;=30</td>\n",
       "      <td>high</td>\n",
       "      <td>no</td>\n",
       "      <td>fair</td>\n",
       "      <td>no</td>\n",
       "    </tr>\n",
       "    <tr>\n",
       "      <th>1</th>\n",
       "      <td>&lt;=30</td>\n",
       "      <td>high</td>\n",
       "      <td>no</td>\n",
       "      <td>excellent</td>\n",
       "      <td>no</td>\n",
       "    </tr>\n",
       "    <tr>\n",
       "      <th>2</th>\n",
       "      <td>31...40</td>\n",
       "      <td>high</td>\n",
       "      <td>no</td>\n",
       "      <td>fair</td>\n",
       "      <td>yes</td>\n",
       "    </tr>\n",
       "    <tr>\n",
       "      <th>3</th>\n",
       "      <td>&gt;40</td>\n",
       "      <td>medium</td>\n",
       "      <td>no</td>\n",
       "      <td>fair</td>\n",
       "      <td>yes</td>\n",
       "    </tr>\n",
       "    <tr>\n",
       "      <th>4</th>\n",
       "      <td>&gt;40</td>\n",
       "      <td>low</td>\n",
       "      <td>yes</td>\n",
       "      <td>fair</td>\n",
       "      <td>yes</td>\n",
       "    </tr>\n",
       "    <tr>\n",
       "      <th>5</th>\n",
       "      <td>&gt;40</td>\n",
       "      <td>low</td>\n",
       "      <td>yes</td>\n",
       "      <td>excellent</td>\n",
       "      <td>no</td>\n",
       "    </tr>\n",
       "    <tr>\n",
       "      <th>6</th>\n",
       "      <td>31...40</td>\n",
       "      <td>low</td>\n",
       "      <td>yes</td>\n",
       "      <td>excellent</td>\n",
       "      <td>yes</td>\n",
       "    </tr>\n",
       "    <tr>\n",
       "      <th>7</th>\n",
       "      <td>&lt;=30</td>\n",
       "      <td>medium</td>\n",
       "      <td>no</td>\n",
       "      <td>fair</td>\n",
       "      <td>no</td>\n",
       "    </tr>\n",
       "    <tr>\n",
       "      <th>8</th>\n",
       "      <td>&lt;=30</td>\n",
       "      <td>low</td>\n",
       "      <td>yes</td>\n",
       "      <td>fair</td>\n",
       "      <td>yes</td>\n",
       "    </tr>\n",
       "    <tr>\n",
       "      <th>9</th>\n",
       "      <td>&gt;40</td>\n",
       "      <td>medium</td>\n",
       "      <td>yes</td>\n",
       "      <td>fair</td>\n",
       "      <td>yes</td>\n",
       "    </tr>\n",
       "    <tr>\n",
       "      <th>10</th>\n",
       "      <td>&lt;=30</td>\n",
       "      <td>medium</td>\n",
       "      <td>yes</td>\n",
       "      <td>excellent</td>\n",
       "      <td>yes</td>\n",
       "    </tr>\n",
       "    <tr>\n",
       "      <th>11</th>\n",
       "      <td>31...40</td>\n",
       "      <td>medium</td>\n",
       "      <td>no</td>\n",
       "      <td>excellent</td>\n",
       "      <td>yes</td>\n",
       "    </tr>\n",
       "    <tr>\n",
       "      <th>12</th>\n",
       "      <td>31...40</td>\n",
       "      <td>high</td>\n",
       "      <td>yes</td>\n",
       "      <td>fair</td>\n",
       "      <td>yes</td>\n",
       "    </tr>\n",
       "    <tr>\n",
       "      <th>13</th>\n",
       "      <td>&gt;40</td>\n",
       "      <td>medium</td>\n",
       "      <td>no</td>\n",
       "      <td>excellent</td>\n",
       "      <td>no</td>\n",
       "    </tr>\n",
       "  </tbody>\n",
       "</table>\n",
       "</div>"
      ],
      "text/plain": [
       "        age  income student credit_rating buys_computer\n",
       "0      <=30    high      no          fair            no\n",
       "1      <=30    high      no     excellent            no\n",
       "2   31...40    high      no          fair           yes\n",
       "3       >40  medium      no          fair           yes\n",
       "4       >40     low     yes          fair           yes\n",
       "5       >40     low     yes     excellent            no\n",
       "6   31...40     low     yes     excellent           yes\n",
       "7      <=30  medium      no          fair            no\n",
       "8      <=30     low     yes          fair           yes\n",
       "9       >40  medium     yes          fair           yes\n",
       "10     <=30  medium     yes     excellent           yes\n",
       "11  31...40  medium      no     excellent           yes\n",
       "12  31...40    high     yes          fair           yes\n",
       "13      >40  medium      no     excellent            no"
      ]
     },
     "execution_count": 4,
     "metadata": {},
     "output_type": "execute_result"
    }
   ],
   "source": [
    "import pandas as pd\n",
    "import numpy as np\n",
    "df=pd.read_excel(\"lab4.xlsx\")\n",
    "df"
   ]
  },
  {
   "cell_type": "code",
   "execution_count": 14,
   "id": "589f0c3f",
   "metadata": {},
   "outputs": [],
   "source": [
    "from sklearn.tree import DecisionTreeClassifier\n",
    "from sklearn.preprocessing import LabelEncoder"
   ]
  },
  {
   "cell_type": "code",
   "execution_count": 20,
   "id": "d27c0608",
   "metadata": {},
   "outputs": [
    {
     "name": "stdout",
     "output_type": "stream",
     "text": [
      "Entropy for buys_computer column: 0.9402859586706311\n",
      "Entropy for credit_rating column: 0.9852281360342515\n",
      "Entropy for student column: 1.0\n",
      "Entropy for income column: 1.5566567074628228\n",
      "Entropy for age column: 1.5774062828523454\n"
     ]
    }
   ],
   "source": [
    "column5 = 'buys_computer'\n",
    "column4='credit_rating'\n",
    "column3='student'\n",
    "column2='income'\n",
    "column1='age'\n",
    "def calculate_entropy(column):\n",
    "    counts = column.value_counts()\n",
    "    total_count = len(column)\n",
    "    probabilities = counts / total_count\n",
    "    entropy = -(np.sum(probabilities * np.log2(probabilities)))\n",
    "    return entropy\n",
    "entropy5 = calculate_entropy(df[column5])\n",
    "print(\"Entropy for buys_computer column:\", entropy5)\n",
    "entropy4 = calculate_entropy(df[column4])\n",
    "print(\"Entropy for credit_rating column:\", entropy4)\n",
    "entropy3 = calculate_entropy(df[column3])\n",
    "print(\"Entropy for student column:\", entropy3)\n",
    "entropy2 = calculate_entropy(df[column2])\n",
    "print(\"Entropy for income column:\", entropy2)\n",
    "entropy1 = calculate_entropy(df[column1])\n",
    "print(\"Entropy for age column:\", entropy1)"
   ]
  },
  {
   "cell_type": "code",
   "execution_count": 26,
   "id": "ddee117b",
   "metadata": {},
   "outputs": [
    {
     "name": "stdout",
     "output_type": "stream",
     "text": [
      "Entropy at the root node based on 'age': 0.0000\n",
      "Entropy at the root node based on 'age': 0.8922\n",
      "Entropy at the root node based on 'age': 0.7885\n",
      "Entropy at the root node based on 'age': 0.9111\n"
     ]
    }
   ],
   "source": [
    "column5 = 'buys_computer'\n",
    "column4='credit_rating'\n",
    "column3='student'\n",
    "column2='income'\n",
    "root_feature = 'age'\n",
    "\n",
    "def calc_root_entropy(data, feature, target_column):\n",
    "    unique_values = data[feature].unique()\n",
    "    total_num_of_samples = len(data)\n",
    "    root_entropy = 0\n",
    "    for value in unique_values:\n",
    "        subset = data[data[feature] == value]\n",
    "        size_of_subset = len(subset)\n",
    "        entropy_of_subset = calc_entropy(subset[target_column])\n",
    "        root_entropy += (size_of_subset / total_num_of_samples) * entropy_of_subset\n",
    "    return root_entropy\n",
    "def calc_entropy(labels):\n",
    "    counts = labels.value_counts()\n",
    "    probabilities = counts / len(labels)\n",
    "    entropy = -np.sum(probabilities * np.log2(probabilities))\n",
    "    return entropy\n",
    "entropy5 = calc_root_entropy(df, column5, target_column)\n",
    "entropy4 = calc_root_entropy(df, column4, target_column)\n",
    "entropy3 = calc_root_entropy(df, column3, target_column)\n",
    "entropy2 = calc_root_entropy(df, column2, target_column)\n",
    "print(f\"Entropy at the root node based on '{root_node_feature}': {entropy5:.4f}\")\n",
    "print(f\"Entropy at the root node based on '{root_node_feature}': {entropy4:.4f}\")\n",
    "print(f\"Entropy at the root node based on '{root_node_feature}': {entropy3:.4f}\")\n",
    "print(f\"Entropy at the root node based on '{root_node_feature}': {entropy2:.4f}\")\n"
   ]
  },
  {
   "cell_type": "code",
   "execution_count": 29,
   "id": "3b820ea5",
   "metadata": {},
   "outputs": [
    {
     "name": "stdout",
     "output_type": "stream",
     "text": [
      "Total entropy is :  0.9402859586706311\n",
      "Information gain is :  0.24674981977443933\n"
     ]
    }
   ],
   "source": [
    "overall_entropy = calc_entropy(df[target_column])\n",
    "print(\"Total entropy is : \",overall_entropy)\n",
    "info_gain = overall_entropy - root_entropy\n",
    "print(\"Information gain is : \",info_gain)"
   ]
  },
  {
   "cell_type": "code",
   "execution_count": 30,
   "id": "bd122e5a",
   "metadata": {},
   "outputs": [],
   "source": [
    "from sklearn.tree import DecisionTreeClassifier\n",
    "from sklearn.model_selection import train_test_split"
   ]
  },
  {
   "cell_type": "code",
   "execution_count": 31,
   "id": "cf6245e4",
   "metadata": {},
   "outputs": [
    {
     "ename": "ValueError",
     "evalue": "test_size=0.0 should be either positive and smaller than the number of samples 14 or a float in the (0, 1) range",
     "output_type": "error",
     "traceback": [
      "\u001b[1;31m---------------------------------------------------------------------------\u001b[0m",
      "\u001b[1;31mValueError\u001b[0m                                Traceback (most recent call last)",
      "\u001b[1;32m~\\AppData\\Local\\Temp\\ipykernel_8284\\2133538915.py\u001b[0m in \u001b[0;36m<module>\u001b[1;34m\u001b[0m\n\u001b[0;32m      1\u001b[0m \u001b[0mX\u001b[0m \u001b[1;33m=\u001b[0m \u001b[0mdf\u001b[0m\u001b[1;33m.\u001b[0m\u001b[0mdrop\u001b[0m\u001b[1;33m(\u001b[0m\u001b[0mcolumns\u001b[0m\u001b[1;33m=\u001b[0m\u001b[1;34m'buys_computer'\u001b[0m\u001b[1;33m)\u001b[0m\u001b[1;33m\u001b[0m\u001b[1;33m\u001b[0m\u001b[0m\n\u001b[0;32m      2\u001b[0m \u001b[0my\u001b[0m \u001b[1;33m=\u001b[0m \u001b[0mdf\u001b[0m\u001b[1;33m[\u001b[0m\u001b[1;34m'buys_computer'\u001b[0m\u001b[1;33m]\u001b[0m\u001b[1;33m\u001b[0m\u001b[1;33m\u001b[0m\u001b[0m\n\u001b[1;32m----> 3\u001b[1;33m \u001b[0mTr_X\u001b[0m\u001b[1;33m,\u001b[0m \u001b[0m_\u001b[0m\u001b[1;33m,\u001b[0m \u001b[0mTr_y\u001b[0m\u001b[1;33m,\u001b[0m \u001b[0m_\u001b[0m \u001b[1;33m=\u001b[0m \u001b[0mtrain_test_split\u001b[0m\u001b[1;33m(\u001b[0m\u001b[0mX\u001b[0m\u001b[1;33m,\u001b[0m \u001b[0my\u001b[0m\u001b[1;33m,\u001b[0m \u001b[0mtest_size\u001b[0m\u001b[1;33m=\u001b[0m\u001b[1;36m0.0\u001b[0m\u001b[1;33m,\u001b[0m \u001b[0mrandom_state\u001b[0m\u001b[1;33m=\u001b[0m\u001b[1;36m40\u001b[0m\u001b[1;33m)\u001b[0m\u001b[1;33m\u001b[0m\u001b[1;33m\u001b[0m\u001b[0m\n\u001b[0m\u001b[0;32m      4\u001b[0m \u001b[0mmodel\u001b[0m \u001b[1;33m=\u001b[0m \u001b[0mDecisionTreeClassifier\u001b[0m\u001b[1;33m(\u001b[0m\u001b[1;33m)\u001b[0m\u001b[1;33m\u001b[0m\u001b[1;33m\u001b[0m\u001b[0m\n\u001b[0;32m      5\u001b[0m \u001b[0mmodel\u001b[0m\u001b[1;33m.\u001b[0m\u001b[0mfit\u001b[0m\u001b[1;33m(\u001b[0m\u001b[0mTr_X\u001b[0m\u001b[1;33m,\u001b[0m \u001b[0mTr_y\u001b[0m\u001b[1;33m)\u001b[0m\u001b[1;33m\u001b[0m\u001b[1;33m\u001b[0m\u001b[0m\n",
      "\u001b[1;32m~\\Documents\\anaconda new\\lib\\site-packages\\sklearn\\model_selection\\_split.py\u001b[0m in \u001b[0;36mtrain_test_split\u001b[1;34m(test_size, train_size, random_state, shuffle, stratify, *arrays)\u001b[0m\n\u001b[0;32m   2418\u001b[0m \u001b[1;33m\u001b[0m\u001b[0m\n\u001b[0;32m   2419\u001b[0m     \u001b[0mn_samples\u001b[0m \u001b[1;33m=\u001b[0m \u001b[0m_num_samples\u001b[0m\u001b[1;33m(\u001b[0m\u001b[0marrays\u001b[0m\u001b[1;33m[\u001b[0m\u001b[1;36m0\u001b[0m\u001b[1;33m]\u001b[0m\u001b[1;33m)\u001b[0m\u001b[1;33m\u001b[0m\u001b[1;33m\u001b[0m\u001b[0m\n\u001b[1;32m-> 2420\u001b[1;33m     n_train, n_test = _validate_shuffle_split(\n\u001b[0m\u001b[0;32m   2421\u001b[0m         \u001b[0mn_samples\u001b[0m\u001b[1;33m,\u001b[0m \u001b[0mtest_size\u001b[0m\u001b[1;33m,\u001b[0m \u001b[0mtrain_size\u001b[0m\u001b[1;33m,\u001b[0m \u001b[0mdefault_test_size\u001b[0m\u001b[1;33m=\u001b[0m\u001b[1;36m0.25\u001b[0m\u001b[1;33m\u001b[0m\u001b[1;33m\u001b[0m\u001b[0m\n\u001b[0;32m   2422\u001b[0m     )\n",
      "\u001b[1;32m~\\Documents\\anaconda new\\lib\\site-packages\\sklearn\\model_selection\\_split.py\u001b[0m in \u001b[0;36m_validate_shuffle_split\u001b[1;34m(n_samples, test_size, train_size, default_test_size)\u001b[0m\n\u001b[0;32m   2041\u001b[0m         \u001b[1;32mand\u001b[0m \u001b[1;33m(\u001b[0m\u001b[0mtest_size\u001b[0m \u001b[1;33m<=\u001b[0m \u001b[1;36m0\u001b[0m \u001b[1;32mor\u001b[0m \u001b[0mtest_size\u001b[0m \u001b[1;33m>=\u001b[0m \u001b[1;36m1\u001b[0m\u001b[1;33m)\u001b[0m\u001b[1;33m\u001b[0m\u001b[1;33m\u001b[0m\u001b[0m\n\u001b[0;32m   2042\u001b[0m     ):\n\u001b[1;32m-> 2043\u001b[1;33m         raise ValueError(\n\u001b[0m\u001b[0;32m   2044\u001b[0m             \u001b[1;34m\"test_size={0} should be either positive and smaller\"\u001b[0m\u001b[1;33m\u001b[0m\u001b[1;33m\u001b[0m\u001b[0m\n\u001b[0;32m   2045\u001b[0m             \u001b[1;34m\" than the number of samples {1} or a float in the \"\u001b[0m\u001b[1;33m\u001b[0m\u001b[1;33m\u001b[0m\u001b[0m\n",
      "\u001b[1;31mValueError\u001b[0m: test_size=0.0 should be either positive and smaller than the number of samples 14 or a float in the (0, 1) range"
     ]
    }
   ],
   "source": [
    "X = df.drop(columns='buys_computer')\n",
    "y = df['buys_computer']\n",
    "Tr_X, _, Tr_y, _ = train_test_split(X, y, test_size=0.0, random_state=40) \n",
    "model = DecisionTreeClassifier()\n",
    "model.fit(Tr_X, Tr_y)\n",
    "training_accuracy = model.score(Tr_X, Tr_y)\n",
    "print(\"Training Set Accuracy:\", training_accuracy)\n",
    "tree_depth = model.get_depth()\n",
    "print(\"Tree Depth:\", tree_depth)"
   ]
  },
  {
   "cell_type": "code",
   "execution_count": null,
   "id": "1394da1d",
   "metadata": {},
   "outputs": [],
   "source": []
  }
 ],
 "metadata": {
  "kernelspec": {
   "display_name": "Python 3 (ipykernel)",
   "language": "python",
   "name": "python3"
  },
  "language_info": {
   "codemirror_mode": {
    "name": "ipython",
    "version": 3
   },
   "file_extension": ".py",
   "mimetype": "text/x-python",
   "name": "python",
   "nbconvert_exporter": "python",
   "pygments_lexer": "ipython3",
   "version": "3.9.13"
  }
 },
 "nbformat": 4,
 "nbformat_minor": 5
}
